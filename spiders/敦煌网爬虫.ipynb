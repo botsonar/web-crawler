{
 "cells": [
  {
   "cell_type": "markdown",
   "metadata": {},
   "source": [
    "敦煌网爬虫，主要爬取行业动态和seller的信息"
   ]
  },
  {
   "cell_type": "markdown",
   "metadata": {},
   "source": [
    "行业动态信息：\n",
    "https://seller.dhgate.com/industry-trends/wishlist/list_1.html#cms_/industry-trends/wishlist/-page-0\n",
    "https://seller.dhgate.com/industry-trends/wishlist/list_2.html#cms_/industry-trends/wishlist/-page-1\n",
    "https://seller.dhgate.com/industry-trends/wishlist/list_3.html#cms_/industry-trends/wishlist/-page-2\n",
    "https://seller.dhgate.com/industry-trends/wishlist/list_4.html#cms_/industry-trends/wishlist/-page-3"
   ]
  },
  {
   "cell_type": "code",
   "execution_count": 1,
   "metadata": {},
   "outputs": [],
   "source": [
    "import requests_html\n",
    "import csv"
   ]
  },
  {
   "cell_type": "code",
   "execution_count": 2,
   "metadata": {},
   "outputs": [],
   "source": [
    "session = requests_html.HTMLSession()"
   ]
  },
  {
   "cell_type": "code",
   "execution_count": 3,
   "metadata": {},
   "outputs": [],
   "source": [
    "url_template = \"https://seller.dhgate.com/industry-trends/wishlist/list_{0}.html#cms_/industry-trends/wishlist/-page-{0}\""
   ]
  },
  {
   "cell_type": "code",
   "execution_count": 4,
   "metadata": {},
   "outputs": [],
   "source": [
    "csv_presell_data = \"pre-sell.csv\""
   ]
  },
  {
   "cell_type": "code",
   "execution_count": 5,
   "metadata": {},
   "outputs": [
    {
     "name": "stdout",
     "output_type": "stream",
     "text": [
      "完成爬取\n"
     ]
    }
   ],
   "source": [
    "page_number = 1000\n",
    "\n",
    "with open(csv_presell_data, 'wt', newline='') as csvfile:\n",
    "    spamwriter = csv.writer(csvfile, delimiter=',', quotechar='|', quoting=csv.QUOTE_MINIMAL)\n",
    "    spamwriter.writerow([\"封面\", \"介绍\", \"售价\", \"类目\", \"时间\", \"状态\"])\n",
    "    for page in range(0, page_number):\n",
    "        r = session.get(url_template.format(page))\n",
    "        elements = r.html.xpath('//*[@id=\"list3\"]/div')\n",
    "        for elem in elements:\n",
    "            dd_elems = elem.find(\"dl dd\")\n",
    "            spamwriter.writerow([\n",
    "                elem.find(\"img\")[0].attrs[\"src\"],\n",
    "                dd_elems[0].text,\n",
    "                dd_elems[1].text,\n",
    "                dd_elems[2].text,\n",
    "                dd_elems[4].text,\n",
    "                dd_elems[5].text]\n",
    "            )\n",
    "print(\"完成爬取\")"
   ]
  },
  {
   "cell_type": "code",
   "execution_count": null,
   "metadata": {},
   "outputs": [],
   "source": []
  }
 ],
 "metadata": {
  "kernelspec": {
   "display_name": "Python 3",
   "language": "python",
   "name": "python3"
  },
  "language_info": {
   "codemirror_mode": {
    "name": "ipython",
    "version": 3
   },
   "file_extension": ".py",
   "mimetype": "text/x-python",
   "name": "python",
   "nbconvert_exporter": "python",
   "pygments_lexer": "ipython3",
   "version": "3.7.2"
  }
 },
 "nbformat": 4,
 "nbformat_minor": 2
}
